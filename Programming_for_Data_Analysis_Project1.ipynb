{
 "cells": [
  {
   "cell_type": "markdown",
   "id": "7fd1ea54",
   "metadata": {},
   "source": [
    "# Programming_for_Data_Analysis\n",
    "\n",
    "### Project1\n",
    "\n",
    "### Jarlath Scarry\n",
    "\n",
    "### Program to generate simulated data for school childerns height and weight"
   ]
  },
  {
   "cell_type": "code",
   "execution_count": 1,
   "id": "5cff8cda",
   "metadata": {},
   "outputs": [
    {
     "name": "stdout",
     "output_type": "stream",
     "text": [
      "55.18\n",
      "64.89\n",
      "        weight_m   height_m   weight_f   height_f\n",
      "count  50.000000  50.000000  50.000000  50.000000\n",
      "mean   64.857200   1.673000  55.083200   1.576400\n",
      "std     1.043074   0.174558   0.956843   0.189852\n",
      "min    62.150000   1.210000  53.380000   1.130000\n",
      "25%    64.077500   1.582500  54.347500   1.432500\n",
      "50%    64.885000   1.675000  55.175000   1.575000\n",
      "75%    65.550000   1.790000  55.600000   1.737500\n",
      "max    67.080000   2.040000  58.610000   1.910000\n"
     ]
    }
   ],
   "source": [
    "## program to generate simulated data for school childerns height and weight\n",
    "\n",
    "import numpy as np\n",
    "import pandas as pd \n",
    "import random\n",
    "\n",
    "#random.seed(0)\n",
    "weight_m = np.round(np.random.normal(65, 1.2, 50),2)\n",
    "height_m = np.round(np.random.normal(1.7, 0.20, 50),2) #boys 170 and girls 160\n",
    "\n",
    "weight_f = np.round(np.random.normal(55, 1, 50),2)\n",
    "height_f = np.round(np.random.normal(1.6, 0.20, 50),2) #boys 170 and girls 160\n",
    "\n",
    "school = np.column_stack((weight_m, height_m, weight_f, height_f))\n",
    "df = pd.DataFrame(school, columns=['weight_m','height_m','weight_f','height_f']) #make df with headings\n",
    "df.to_csv(\"school.csv\") #export the array to csv data frame with pandas\n",
    "\n",
    "\n",
    "mwm = np.round(np.median(school[:,0]),2) # median of weight_f\n",
    "mhm = np.round(np.mean(school[:,1]),2) # mean of height_f\n",
    "mwf = np.round(np.median(school[:,2]),2) # median of weight_m\n",
    "mhf = np.round(np.mean(school[:,3]),2) # mean of height_m\n",
    "\n",
    "print('Mean female height')\n",
    "print(mhf)\n",
    "print('Mean male height')\n",
    "print(mhm)\n",
    "print()\n",
    "print(df.describe())\n"
   ]
  },
  {
   "cell_type": "markdown",
   "id": "1bae791a",
   "metadata": {},
   "source": [
    "# Summary of the data frame is shown. The full data frame is exported to a ile school.csv\n",
    "\n"
   ]
  }
 ],
 "metadata": {
  "kernelspec": {
   "display_name": "Python 3.9.7 ('base')",
   "language": "python",
   "name": "python3"
  },
  "language_info": {
   "codemirror_mode": {
    "name": "ipython",
    "version": 3
   },
   "file_extension": ".py",
   "mimetype": "text/x-python",
   "name": "python",
   "nbconvert_exporter": "python",
   "pygments_lexer": "ipython3",
   "version": "3.9.7"
  },
  "vscode": {
   "interpreter": {
    "hash": "5d45030d5a8892c8a97a172467bbed5f13961f0ed3ba85642a60189e1d097396"
   }
  }
 },
 "nbformat": 4,
 "nbformat_minor": 5
}
